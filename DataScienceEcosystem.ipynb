{
 "cells": [
  {
   "cell_type": "markdown",
   "id": "46e2eef2-78f4-4c05-b979-0aba0ab6b26c",
   "metadata": {},
   "source": [
    "# Data Science Tools and Ecosystem"
   ]
  },
  {
   "cell_type": "markdown",
   "id": "00d4da03-1d3e-478c-9ff4-40d98c0061dc",
   "metadata": {},
   "source": [
    "In this notebook, Data Science Tools and Ecosystem are summarized."
   ]
  },
  {
   "cell_type": "markdown",
   "id": "28d6b00f-6453-45bf-8103-19865e2890a7",
   "metadata": {},
   "source": [
    "**Objectives:**\n",
    "\n",
    "- List popular languages for Data Science  \n",
    "- List commonly used libraries in Data Science  \n",
    "- Create a table of Data Science tools  \n",
    "- Demonstrate arithmetic expressions in Python  \n",
    "- Share the notebook on GitHub "
   ]
  },
  {
   "cell_type": "markdown",
   "id": "10545f27-f083-48a2-af56-7330c6ef2eb8",
   "metadata": {},
   "source": [
    "Some of the popular languages that Data Scientists use are:\n",
    "\n",
    "1. Python  \n",
    "2. R  \n",
    "3. SQL  "
   ]
  },
  {
   "cell_type": "markdown",
   "id": "8595b8e2-df29-4ed9-8d92-d4bb91233a56",
   "metadata": {},
   "source": [
    "Some of the commonly used libraries used by Data Scientists include:\n",
    "\n",
    "1. NumPy (Python)  \n",
    "2. Pandas (Python)  \n",
    "3. Matplotlib (Python)  \n",
    "4. ggplot (R)  \n",
    "5. caret (R) "
   ]
  },
  {
   "cell_type": "markdown",
   "id": "34945684-1a61-4c94-9012-02799dea8572",
   "metadata": {},
   "source": [
    "| Data Science Tools |\n",
    "|--------------------|\n",
    "| Jupyter Notebook   |\n",
    "| RStudio            |\n",
    "| VS Code            |"
   ]
  },
  {
   "cell_type": "markdown",
   "id": "516280e2-c7bb-4dea-ac1d-ee029103466b",
   "metadata": {},
   "source": [
    "### Below are a few examples of evaluating arithmetic expressions in Python."
   ]
  },
  {
   "cell_type": "code",
   "execution_count": 2,
   "id": "dbce3a61-b3e8-4c44-9335-e642d931e5e5",
   "metadata": {},
   "outputs": [
    {
     "data": {
      "text/plain": [
       "17"
      ]
     },
     "execution_count": 2,
     "metadata": {},
     "output_type": "execute_result"
    }
   ],
   "source": [
    "# This is a simple arithmetic expression to multiply then add integers\n",
    "(3 * 4) + 5"
   ]
  },
  {
   "cell_type": "code",
   "execution_count": 3,
   "id": "6a25248a-9b14-44c9-92ab-8f0ce016656d",
   "metadata": {},
   "outputs": [
    {
     "data": {
      "text/plain": [
       "3.3333333333333335"
      ]
     },
     "execution_count": 3,
     "metadata": {},
     "output_type": "execute_result"
    }
   ],
   "source": [
    "# This will convert 200 minutes to hours by diving by 60\n",
    "200 / 60"
   ]
  },
  {
   "cell_type": "markdown",
   "id": "10ae14e5-52e0-4f40-bc18-84b7956d4fbb",
   "metadata": {},
   "source": [
    "## Author\n",
    "Juan Javier Alvarez Mota"
   ]
  },
  {
   "cell_type": "code",
   "execution_count": null,
   "id": "dcb6a4df-13ee-4f9b-92aa-b33e6d3e8e78",
   "metadata": {},
   "outputs": [],
   "source": []
  }
 ],
 "metadata": {
  "kernelspec": {
   "display_name": "Python [conda env:base] *",
   "language": "python",
   "name": "conda-base-py"
  },
  "language_info": {
   "codemirror_mode": {
    "name": "ipython",
    "version": 3
   },
   "file_extension": ".py",
   "mimetype": "text/x-python",
   "name": "python",
   "nbconvert_exporter": "python",
   "pygments_lexer": "ipython3",
   "version": "3.13.5"
  }
 },
 "nbformat": 4,
 "nbformat_minor": 5
}
